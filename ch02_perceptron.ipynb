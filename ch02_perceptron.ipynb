{
 "cells": [
  {
   "cell_type": "markdown",
   "id": "508bd7af-26bc-4053-b9c3-e53c67cdccda",
   "metadata": {},
   "source": [
    "# ゼロから作るdeeplearning 2章 パーセプトロン\n",
    "ANDゲート、ORゲート、NANDゲート、そしてそれらを用いたXORゲートを実装します"
   ]
  },
  {
   "cell_type": "code",
   "execution_count": 1,
   "id": "1c04be70",
   "metadata": {},
   "outputs": [],
   "source": [
    "import numpy as np"
   ]
  },
  {
   "cell_type": "markdown",
   "id": "b1aa909e-bd33-4a66-9791-f26f8c710435",
   "metadata": {},
   "source": [
    "### ANDゲートの実装"
   ]
  },
  {
   "cell_type": "code",
   "execution_count": 2,
   "id": "7b762a75-c032-416e-a21c-20cf24fb690c",
   "metadata": {},
   "outputs": [],
   "source": [
    "def AND(x1,x2):\n",
    "    x = np.array([x1, x2])\n",
    "    w = np.array([0.5, 0.5])\n",
    "    b = -0.7\n",
    "    tmp = np.sum(x * w) + b\n",
    "    if tmp <= 0:\n",
    "        return 0\n",
    "    else:\n",
    "        return 1"
   ]
  },
  {
   "cell_type": "code",
   "execution_count": 3,
   "id": "d9cb0c53",
   "metadata": {},
   "outputs": [
    {
     "name": "stdout",
     "output_type": "stream",
     "text": [
      "0\n",
      "0\n",
      "0\n",
      "1\n"
     ]
    }
   ],
   "source": [
    "print(AND(0,0))\n",
    "print(AND(1,0))\n",
    "print(AND(0,1))\n",
    "print(AND(1,1))"
   ]
  },
  {
   "cell_type": "markdown",
   "id": "8b887379",
   "metadata": {},
   "source": [
    "### NANDゲート, ORゲートはANDゲートと同じ構造で作れる！"
   ]
  },
  {
   "cell_type": "code",
   "execution_count": 4,
   "id": "8842ba8f",
   "metadata": {},
   "outputs": [],
   "source": [
    "def OR(x1,x2):\n",
    "    x = np.array([x1, x2])\n",
    "    w = np.array([0.5, 0.5])\n",
    "    b = -0.3\n",
    "    tmp = np.sum(x * w) + b\n",
    "    if tmp <= 0:\n",
    "        return 0\n",
    "    else:\n",
    "        return 1"
   ]
  },
  {
   "cell_type": "code",
   "execution_count": 5,
   "id": "d5fada28",
   "metadata": {},
   "outputs": [
    {
     "name": "stdout",
     "output_type": "stream",
     "text": [
      "0\n",
      "1\n",
      "1\n",
      "1\n"
     ]
    }
   ],
   "source": [
    "print(OR(0,0))\n",
    "print(OR(1,0))\n",
    "print(OR(0,1))\n",
    "print(OR(1,1))"
   ]
  },
  {
   "cell_type": "code",
   "execution_count": 6,
   "id": "8669f195",
   "metadata": {},
   "outputs": [],
   "source": [
    "def NAND(x1,x2):\n",
    "    x = np.array([x1, x2])\n",
    "    w = np.array([-0.5, -0.5])\n",
    "    b = 0.8\n",
    "    tmp = np.sum(x * w) + b\n",
    "    if tmp <= 0:\n",
    "        return 0\n",
    "    else:\n",
    "        return 1"
   ]
  },
  {
   "cell_type": "code",
   "execution_count": 7,
   "id": "2507dea6",
   "metadata": {},
   "outputs": [
    {
     "name": "stdout",
     "output_type": "stream",
     "text": [
      "1\n",
      "1\n",
      "1\n",
      "0\n"
     ]
    }
   ],
   "source": [
    "print(NAND(0,0))\n",
    "print(NAND(1,0))\n",
    "print(NAND(0,1))\n",
    "print(NAND(1,1))"
   ]
  },
  {
   "cell_type": "markdown",
   "id": "3c43cc5e",
   "metadata": {},
   "source": [
    "### XORゲートは単層パーセプトロンの組み合わせで表現できる"
   ]
  },
  {
   "cell_type": "code",
   "execution_count": 8,
   "id": "f444a3c6",
   "metadata": {},
   "outputs": [],
   "source": [
    "def XOR(x1,x2):\n",
    "\ts1 = NAND(x1,x2)\n",
    "\ts2 = OR(x1,x2)\n",
    "\ty = AND(s1,s2)\n",
    "\treturn y"
   ]
  },
  {
   "cell_type": "code",
   "execution_count": 9,
   "id": "821ddbde",
   "metadata": {},
   "outputs": [
    {
     "name": "stdout",
     "output_type": "stream",
     "text": [
      "0\n",
      "1\n",
      "1\n",
      "0\n"
     ]
    }
   ],
   "source": [
    "print(XOR(0,0))\n",
    "print(XOR(1,0))\n",
    "print(XOR(0,1))\n",
    "print(XOR(1,1))"
   ]
  }
 ],
 "metadata": {
  "kernelspec": {
   "display_name": "Python 3 (ipykernel)",
   "language": "python",
   "name": "python3"
  },
  "language_info": {
   "codemirror_mode": {
    "name": "ipython",
    "version": 3
   },
   "file_extension": ".py",
   "mimetype": "text/x-python",
   "name": "python",
   "nbconvert_exporter": "python",
   "pygments_lexer": "ipython3",
   "version": "3.12.3"
  }
 },
 "nbformat": 4,
 "nbformat_minor": 5
}
