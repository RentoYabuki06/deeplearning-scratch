{
 "cells": [
  {
   "cell_type": "markdown",
   "metadata": {},
   "source": [
    "# ゼロから作るdeeplearning 5章 誤差逆伝搬法\n",
    "\n",
    "## 5.1 計算グラフ\n",
    "計算グラフめっちゃわかりやすいなあ。\n",
    "\n",
    "急に道ゆく人に誤差逆伝搬法ってなんですか？って聞かれて、紙とペンさえ持っていれば説明できるくらいになれば理解したって言えると思う。"
   ]
  },
  {
   "cell_type": "code",
   "execution_count": 50,
   "metadata": {},
   "outputs": [],
   "source": [
    "import numpy as np"
   ]
  },
  {
   "cell_type": "markdown",
   "metadata": {},
   "source": [
    "## 5.4 単純なレイヤの実装\n",
    "### 5.4.1 乗算レイヤの実装"
   ]
  },
  {
   "cell_type": "code",
   "execution_count": 51,
   "metadata": {},
   "outputs": [],
   "source": [
    "class MulLayer:\n",
    "\tdef __init__(self):\n",
    "\t\tself.x = None\n",
    "\t\tself.y = None\n",
    "\t\n",
    "\tdef forward(self, x, y):\n",
    "\t\tself.x = x\n",
    "\t\tself.y = y\n",
    "\t\tout = x * y\n",
    "\t\treturn out\n",
    "\n",
    "\tdef backward(self, dout):\t# doutは逆伝播してきた微分\n",
    "\t\tdx = dout * self.y\n",
    "\t\tdy = dout * self.x\n",
    "\t\treturn dx, dy"
   ]
  },
  {
   "cell_type": "code",
   "execution_count": 52,
   "metadata": {},
   "outputs": [
    {
     "name": "stdout",
     "output_type": "stream",
     "text": [
      "220.00000000000003\n"
     ]
    }
   ],
   "source": [
    "apple = 100\n",
    "apple_num = 2\n",
    "tax = 1.1\n",
    "\n",
    "# layer\n",
    "mul_apple_layer = MulLayer()\n",
    "mul_tax_layer = MulLayer()\n",
    "\n",
    "# forward\n",
    "apple_price = mul_apple_layer.forward(apple, apple_num)\n",
    "price = mul_tax_layer.forward(apple_price, tax)\n",
    "\n",
    "print(price)"
   ]
  },
  {
   "cell_type": "code",
   "execution_count": 53,
   "metadata": {},
   "outputs": [
    {
     "name": "stdout",
     "output_type": "stream",
     "text": [
      "2.2 110.00000000000001 200\n"
     ]
    }
   ],
   "source": [
    "# backward（forwardの時と逆順に呼び出していく）\n",
    "dprice = 1\n",
    "dapple_price, dtax = mul_tax_layer.backward(dprice)\n",
    "dapple, dapple_num = mul_apple_layer.backward(dapple_price)\n",
    "print(dapple, dapple_num, dtax)"
   ]
  },
  {
   "cell_type": "markdown",
   "metadata": {},
   "source": [
    "### 5.4.2 加算レイヤの実装\n"
   ]
  },
  {
   "cell_type": "code",
   "execution_count": 54,
   "metadata": {},
   "outputs": [],
   "source": [
    "class AddLayer:\n",
    "\tdef __init__(self):\n",
    "\t\tpass\n",
    "\n",
    "\tdef forward(self, x, y):\n",
    "\t\tout = x + y\n",
    "\t\treturn out\n",
    "\n",
    "\tdef backward(self, dout):\n",
    "\t\tdx = dout * 1\n",
    "\t\tdy = dout * 1\n",
    "\t\treturn dx, dy"
   ]
  },
  {
   "cell_type": "code",
   "execution_count": 55,
   "metadata": {},
   "outputs": [
    {
     "name": "stdout",
     "output_type": "stream",
     "text": [
      "715.0000000000001\n",
      "110.00000000000001 2.2 3.3000000000000003 165.0 650\n"
     ]
    }
   ],
   "source": [
    "apple = 100\n",
    "apple_num = 2\n",
    "orange = 150\n",
    "orange_num = 3\n",
    "tax = 1.1\n",
    "\n",
    "# layer\n",
    "mul_apple_layer = MulLayer()\n",
    "mul_orange_layer = MulLayer()\n",
    "add_apple_orange_layer = AddLayer()\n",
    "mul_tax_layer = MulLayer()\n",
    "\n",
    "# forward\n",
    "apple_price = mul_apple_layer.forward(apple, apple_num)\n",
    "orange_price = mul_orange_layer.forward(orange, orange_num)\n",
    "all_price = add_apple_orange_layer.forward(apple_price, orange_price)\n",
    "price = mul_tax_layer.forward(all_price, tax)\n",
    "\n",
    "# back_propagation\n",
    "dprice = 1\n",
    "dall_price, dtax = mul_tax_layer.backward(dprice)\n",
    "dapple_price, dorange_price = add_apple_orange_layer.backward(dall_price)\n",
    "dorange, dorange_num = mul_orange_layer.backward(dorange_price)\n",
    "dapple, dapple_num = mul_apple_layer.backward(dapple_price)\n",
    "\n",
    "print(price)\n",
    "print(dapple_num, dapple, dorange, dorange_num, dtax)"
   ]
  },
  {
   "cell_type": "markdown",
   "metadata": {},
   "source": [
    "## 5.5 活性化関数レイヤの実装\n",
    "### 5.5.1 ReLUレイヤ"
   ]
  },
  {
   "cell_type": "code",
   "execution_count": 56,
   "metadata": {},
   "outputs": [],
   "source": [
    "class ReLU:\n",
    "\tdef __init__(self):\n",
    "\t\tself.mask = None\n",
    "\n",
    "\tdef forward(self, x):\n",
    "\t\tself.mask = (x <= 0)\n",
    "\t\tout = x.copy()\n",
    "\t\tout[self.mask] = 0\n",
    "\t\treturn out\n",
    "\n",
    "\tdef backward(self, dout):\n",
    "\t\tdout[self.mask] = 0\n",
    "\t\tdx = dout\n",
    "\t\treturn dx"
   ]
  },
  {
   "cell_type": "code",
   "execution_count": 57,
   "metadata": {},
   "outputs": [
    {
     "name": "stdout",
     "output_type": "stream",
     "text": [
      "[[ 1.  -0.5]\n",
      " [-2.   3. ]]\n"
     ]
    }
   ],
   "source": [
    "x = np.array([[1.0, -0.5], [-2.0, 3.0]])\n",
    "print(x)"
   ]
  },
  {
   "cell_type": "markdown",
   "metadata": {},
   "source": [
    "### 5.5.2 Sigmoidレイヤ\n",
    "\n",
    "$$\n",
    "\\sigma'(x) = \\sigma(x) \\cdot (1 - \\sigma(x))\n",
    "$$\n",
    "これは、シグモイド関数の出力を$y$とした場合、その微分が$y \\cdot (1 - y)$になることを意味します。"
   ]
  },
  {
   "cell_type": "code",
   "execution_count": 58,
   "metadata": {},
   "outputs": [],
   "source": [
    "class Sigmoid:\n",
    "\tdef __init__(self):\n",
    "\t\tself.out = None\n",
    "\n",
    "\tdef forward(self, x):\n",
    "\t\tout = 1 / (1 + np.exp(-x))\n",
    "\t\tself.out = out\n",
    "\t\treturn out\n",
    "\n",
    "\tdef backward(self, dout):\n",
    "\t\tdx = dout * (1.0 - self.out) * self.out\n",
    "\t\treturn dx"
   ]
  },
  {
   "cell_type": "markdown",
   "metadata": {},
   "source": [
    "## 5.6 Affine / Softmaxレイヤの実装\n",
    "### 5.6.1 Affineレイヤ\n",
    "### 5.6.2 バッチ版Affineレイヤ"
   ]
  },
  {
   "cell_type": "code",
   "execution_count": 59,
   "metadata": {},
   "outputs": [],
   "source": [
    "# テンソル(4次元データ)に対応しているバージョンは参考資料に\n",
    "class Affine:\n",
    "\tdef __init__(self, W, b):\n",
    "\t\tself.W = W\n",
    "\t\tself.b = b\n",
    "\t\tself.x = None\n",
    "\t\tself.dW = None\n",
    "\t\tself.db = None\n",
    "\n",
    "\tdef forward(self, x):\n",
    "\t\tself.x = x\n",
    "\t\tout = np.dot(x, self.W) + self.b\n",
    "\t\treturn out\n",
    "\n",
    "\tdef backward(self, dout):\n",
    "\t\tdx = np.dot(dout, self.W.T)\n",
    "\t\tself.dW = np.dot(self.x.T, dout)\n",
    "\t\tself.db = np.sum(dout, axis=0)\n",
    "\t\treturn dx"
   ]
  },
  {
   "cell_type": "markdown",
   "metadata": {},
   "source": [
    "### 5.6.3 Softmax-with-Lossレイヤ"
   ]
  },
  {
   "cell_type": "code",
   "execution_count": 60,
   "metadata": {},
   "outputs": [],
   "source": [
    "# 再掲：ソフトマックス関数（オーバーフロー対策済）\n",
    "def softmax(a):\n",
    "\tc = np.max(a)\n",
    "\texp_a = np.exp(a - c)\n",
    "\tsum_exp_a = np.sum(exp_a)\n",
    "\treturn exp_a / sum_exp_a\n",
    "\n",
    "# バッチ対応版の交差エントロピー誤差を実装する（one-hot表現の場合）\n",
    "def cross_entropy_error(y, t):\n",
    "\t# 1次元の場合は、reshapeで2次元に変換する\n",
    "\tif y.ndim == 1:\n",
    "\t\tt = t.reshape(1, t.size)\n",
    "\t\ty = y.reshape(1, y.size)\n",
    "\tbatch_size = y.shape[0]\n",
    "\treturn -np.sum(t * np.log(y + 1e-7)) / batch_size"
   ]
  },
  {
   "cell_type": "code",
   "execution_count": 61,
   "metadata": {},
   "outputs": [],
   "source": [
    "class SoftmaxWithLoss:\n",
    "\tdef __init__(self):\n",
    "\t\tself.loss = None\n",
    "\t\tself.y = None\n",
    "\t\tself.t = None\n",
    "\n",
    "\tdef forward(self, x, t):\n",
    "\t\tself.t = t\n",
    "\t\tself.y = softmax(x)\n",
    "\t\tself.loss = cross_entropy_error(self.y, self.t)\n",
    "\t\treturn self.loss\n",
    "\n",
    "\tdef backward(self, dout=1):\n",
    "\t\tbatch_size = self.t.shape[0]\n",
    "\t\tdx = (self.y - self.t) / batch_size\n",
    "\t\treturn dx"
   ]
  },
  {
   "cell_type": "markdown",
   "metadata": {},
   "source": [
    "# 5.7 誤差逆伝播法の実装"
   ]
  },
  {
   "cell_type": "code",
   "execution_count": 62,
   "metadata": {},
   "outputs": [],
   "source": [
    "import numpy as np\n",
    "from collections import OrderedDict\n",
    "\n",
    "class TwoLayerNet:\n",
    "\tdef __init__(self, input_size, hidden_size, output_size, weight_init_std=0.01):\n",
    "\t\tself.params = {}\n",
    "\t\tself.params['W1'] = weight_init_std * np.random.randn(input_size, hidden_size)\n",
    "\t\tself.params['b1'] = np.zeros(hidden_size)\n",
    "\t\tself.params['W2'] = weight_init_std * np.random.randn(hidden_size, output_size)\n",
    "\t\tself.params['b2'] = np.zeros(output_size)\n",
    "\n",
    "\t\tself.layers = OrderedDict()\n",
    "\t\tself.layers['Affine1'] = Affine(self.params['W1'], self.params['b1'])\n",
    "\t\tself.layers['Relu1'] = ReLU()\n",
    "\t\tself.layers['Affine2'] = Affine(self.params['W2'], self.params['b2'])\n",
    "\n",
    "\t\tself.lastLayer = SoftmaxWithLoss()\n",
    "\t\n",
    "\tdef predict(self, x):\n",
    "\t\tfor layer in self.layers.values():\n",
    "\t\t\tx = layer.forward(x)\n",
    "\t\treturn x\n",
    "\n",
    "\tdef loss(self, x, t):\n",
    "\t\ty = self.predict(x)\n",
    "\t\treturn self.lastLayer.forward(y, t)\n",
    "\t\n",
    "\tdef accuracy(self, x, t):\n",
    "\t\ty = self.predict(x)\n",
    "\t\ty = np.argmax(y, axis=1)\n",
    "\t\tif t.ndim != 1:\n",
    "\t\t\tt = np.argmax(t, axis=1)\n",
    "\t\taccuracy = np.sum(y == t) / float(x.shape[0])\n",
    "\t\treturn accuracy\n",
    "\t\n",
    "\tdef numerical_gradient(self, x, t):\n",
    "\t\tloss_W = lambda W: self.loss(x, t)\n",
    "\t\tgrads = {}\n",
    "\t\tgrads['W1'] = numerical_gradient(loss_W, self.params['W1'])\n",
    "\t\tgrads['b1'] = numerical_gradient(loss_W, self.params['b1'])\n",
    "\t\tgrads['W2'] = numerical_gradient(loss_W, self.params['W2'])\n",
    "\t\tgrads['b2'] = numerical_gradient(loss_W, self.params['b2'])\n",
    "\t\treturn grads\n",
    "\n",
    "\tdef gradient(self, x, t):\n",
    "\t\tself.loss(x, t)\n",
    "\n",
    "\t\tdout = 1\n",
    "\t\tdout = self.lastLayer.backward(dout)\n",
    "\n",
    "\t\tlayers = list(self.layers.values())\n",
    "\t\tlayers.reverse()\n",
    "\t\tfor layer in layers:\n",
    "\t\t\tdout = layer.backward(dout)\n",
    "\n",
    "\t\tgrads = {}\n",
    "\t\tgrads['W1'] = self.layers['Affine1'].dW\n",
    "\t\tgrads['b1'] = self.layers['Affine1'].db\n",
    "\t\tgrads['W2'] = self.layers['Affine2'].dW\n",
    "\t\tgrads['b2'] = self.layers['Affine2'].db\n",
    "\t\treturn grads"
   ]
  },
  {
   "cell_type": "markdown",
   "metadata": {},
   "source": [
    "### 5.7.3 誤差逆伝播法の勾配確認"
   ]
  },
  {
   "cell_type": "code",
   "execution_count": 63,
   "metadata": {},
   "outputs": [
    {
     "name": "stdout",
     "output_type": "stream",
     "text": [
      "x_train shape: (60000, 784), y_train shape: (60000, 10)\n",
      "x_test shape: (10000, 784), y_test shape: (10000, 10)\n"
     ]
    }
   ],
   "source": [
    "import tensorflow as tf\n",
    "from tensorflow.keras.utils import to_categorical\n",
    "\n",
    "# TensorFlowのデータセットAPIを使ってMNISTデータセットを読み込む\n",
    "mnist = tf.keras.datasets.mnist\n",
    "\n",
    "# データセットを訓練データとテストデータに分割\n",
    "(x_train, y_train), (x_test, y_test) = mnist.load_data()\n",
    "\n",
    "# flatten処理を適用して、28x28の画像を1次元配列（784次元）に変換\n",
    "x_train = x_train.reshape(-1, 28*28)\n",
    "x_test = x_test.reshape(-1, 28*28)\n",
    "\n",
    "# 画像データを標準化（0から1の範囲にスケーリング）\n",
    "x_train = x_train.astype('float32') / 255.0\n",
    "x_test = x_test.astype('float32') / 255.0\n",
    "\n",
    "# ラベルデータをone-hotエンコード\n",
    "y_train = to_categorical(y_train, 10)\n",
    "y_test = to_categorical(y_test, 10)\n",
    "\n",
    "# データの形状を確認\n",
    "print(f'x_train shape: {x_train.shape}, y_train shape: {y_train.shape}')\n",
    "print(f'x_test shape: {x_test.shape}, y_test shape: {y_test.shape}')\n"
   ]
  },
  {
   "cell_type": "code",
   "execution_count": 64,
   "metadata": {},
   "outputs": [
    {
     "name": "stdout",
     "output_type": "stream",
     "text": [
      "epoch: 0.0, train acc: 0.1103, test acc: 0.1053\n",
      "epoch: 1.0, train acc: 0.0987, test acc: 0.0980\n",
      "epoch: 2.0, train acc: 0.1022, test acc: 0.1010\n",
      "epoch: 3.0, train acc: 0.0987, test acc: 0.0980\n"
     ]
    },
    {
     "name": "stderr",
     "output_type": "stream",
     "text": [
      "/var/folders/5k/0bfc6pzn3z9_z6xn1rvv40sr0000gn/T/ipykernel_97211/1575019292.py:4: RuntimeWarning: invalid value encountered in subtract\n",
      "  exp_a = np.exp(a - c)\n"
     ]
    },
    {
     "name": "stdout",
     "output_type": "stream",
     "text": [
      "epoch: 4.0, train acc: 0.0987, test acc: 0.0980\n",
      "epoch: 5.0, train acc: 0.0987, test acc: 0.0980\n",
      "epoch: 6.0, train acc: 0.0987, test acc: 0.0980\n",
      "epoch: 7.0, train acc: 0.0987, test acc: 0.0980\n",
      "epoch: 8.0, train acc: 0.0987, test acc: 0.0980\n",
      "epoch: 9.0, train acc: 0.0987, test acc: 0.0980\n",
      "epoch: 10.0, train acc: 0.0987, test acc: 0.0980\n",
      "epoch: 11.0, train acc: 0.0987, test acc: 0.0980\n",
      "epoch: 12.0, train acc: 0.0987, test acc: 0.0980\n",
      "epoch: 13.0, train acc: 0.0987, test acc: 0.0980\n",
      "epoch: 14.0, train acc: 0.0987, test acc: 0.0980\n",
      "epoch: 15.0, train acc: 0.0987, test acc: 0.0980\n",
      "epoch: 16.0, train acc: 0.0987, test acc: 0.0980\n"
     ]
    }
   ],
   "source": [
    "# ハイパーパラメータ\n",
    "iters_num = 10000  # 繰り返しの回数\n",
    "train_size = x_train.shape[0]\n",
    "batch_size = 100  # バッチサイズ\n",
    "learning_rate = 0.1\n",
    "\n",
    "train_loss_list = []\n",
    "train_acc_list = []\n",
    "test_acc_list = []\n",
    "# 1epocあたりの繰り返し回数\n",
    "iter_per_epoch = max(train_size / batch_size, 1)\n",
    "\n",
    "# 先ほど定義した2層のネットワークを使用\n",
    "network = TwoLayerNet(input_size=784, hidden_size=50, output_size=10)\n",
    "\n",
    "for i in range(iters_num):\n",
    "\t# ミニバッチの取得\n",
    "\tbatch_mask = np.random.choice(train_size, batch_size)\n",
    "\tx_batch = x_train[batch_mask]\n",
    "\ty_batch = y_train[batch_mask]\n",
    "\n",
    "\t# 勾配の計算（逆伝搬法に変更している！！！！）\n",
    "\tgrad = network.gradient(x_batch, y_batch)\n",
    "\n",
    "\t# パラメータの更新\n",
    "\tfor key in ('W1', 'b1', 'W2', 'b2'):\n",
    "\t\tnetwork.params[key] -= learning_rate * grad[key]\n",
    "\n",
    "\t# 学習経過の記録\n",
    "\tloss = network.loss(x_batch, y_batch)\n",
    "\ttrain_loss_list.append(loss)\n",
    "\n",
    "\t# 1エポックごとに認識精度を計算\n",
    "\tif i % iter_per_epoch == 0:\n",
    "\t\ttrain_acc = network.accuracy(x_train, y_train)\n",
    "\t\ttest_acc = network.accuracy(x_test, y_test)\n",
    "\t\ttrain_acc_list.append(train_acc)\n",
    "\t\ttest_acc_list.append(test_acc)\n",
    "\t\tprint(f'epoch: {i//iter_per_epoch}, train acc: {train_acc:.4f}, test acc: {test_acc:.4f}')"
   ]
  },
  {
   "cell_type": "code",
   "execution_count": null,
   "metadata": {},
   "outputs": [],
   "source": []
  }
 ],
 "metadata": {
  "kernelspec": {
   "display_name": "base",
   "language": "python",
   "name": "python3"
  },
  "language_info": {
   "codemirror_mode": {
    "name": "ipython",
    "version": 3
   },
   "file_extension": ".py",
   "mimetype": "text/x-python",
   "name": "python",
   "nbconvert_exporter": "python",
   "pygments_lexer": "ipython3",
   "version": "3.12.3"
  }
 },
 "nbformat": 4,
 "nbformat_minor": 2
}
